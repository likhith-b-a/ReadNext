{
 "cells": [
  {
   "cell_type": "code",
   "execution_count": 1,
   "id": "9ffa0172-3274-4d83-a314-7a0b8b4196a0",
   "metadata": {},
   "outputs": [],
   "source": [
    "import pandas as pd\n",
    "import numpy as np\n",
    "from sklearn.feature_extraction.text import TfidfVectorizer\n",
    "from sklearn.metrics.pairwise import cosine_similarity\n",
    "import nltk\n",
    "from nltk.corpus import stopwords\n",
    "from nltk.stem import WordNetLemmatizer\n",
    "import re\n",
    "import string\n",
    "import pickle\n",
    "import warnings\n",
    "warnings.filterwarnings('ignore')"
   ]
  },
  {
   "cell_type": "code",
   "execution_count": 2,
   "id": "e1453e39-9408-428f-a02d-155a94febc56",
   "metadata": {},
   "outputs": [
    {
     "name": "stdout",
     "output_type": "stream",
     "text": [
      "NLTK resources downloaded.\n"
     ]
    }
   ],
   "source": [
    "try:\n",
    "    nltk.download('stopwords', quiet=True)\n",
    "    nltk.download('wordnet', quiet=True)\n",
    "    nltk.download('punkt_tab', quiet=True)\n",
    "    print(\"NLTK resources downloaded.\")\n",
    "except:\n",
    "    print(\"NLTK resources couldn't be downloaded. Some text processing features might be limited.\")"
   ]
  },
  {
   "cell_type": "code",
   "execution_count": 3,
   "id": "5292da93-66ee-4638-af6b-f4f12eda6611",
   "metadata": {},
   "outputs": [
    {
     "data": {
      "text/plain": [
       "(20935, 9)"
      ]
     },
     "execution_count": 3,
     "metadata": {},
     "output_type": "execute_result"
    }
   ],
   "source": [
    "books_df = pd.read_csv(\"./Dataset/books.csv\")\n",
    "books_df.shape"
   ]
  },
  {
   "cell_type": "code",
   "execution_count": 4,
   "id": "6bca20a5-b151-432b-8c1e-df133aaff474",
   "metadata": {},
   "outputs": [
    {
     "data": {
      "text/plain": [
       "(19460, 9)"
      ]
     },
     "execution_count": 4,
     "metadata": {},
     "output_type": "execute_result"
    }
   ],
   "source": [
    "books_df = books_df.drop_duplicates(subset='book_title', keep='first')\n",
    "books_df.shape"
   ]
  },
  {
   "cell_type": "code",
   "execution_count": 5,
   "id": "53dda3a8-27e3-40e9-99a2-c42f89869420",
   "metadata": {},
   "outputs": [],
   "source": [
    "def advanced_text_preprocessing(text):\n",
    "    \"\"\"\n",
    "    Apply advanced text preprocessing including:\n",
    "    - Remove special characters and numbers\n",
    "    - Convert to lowercase\n",
    "    - Tokenize\n",
    "    - Remove stopwords\n",
    "    - Lemmatize\n",
    "    \"\"\"\n",
    "    if not isinstance(text, str):\n",
    "        return \"\"\n",
    "    \n",
    "    text = re.sub('[^a-zA-Z\\s]', '', text)\n",
    "    text = text.lower()\n",
    "    tokens = nltk.word_tokenize(text)\n",
    "    stop_words = set(stopwords.words('english'))\n",
    "    tokens = [word for word in tokens if word not in stop_words]\n",
    "    lemmatizer = WordNetLemmatizer()\n",
    "    tokens = [lemmatizer.lemmatize(word) for word in tokens]\n",
    "    return ' '.join(tokens)\n",
    "\n",
    "books_df['processed_summary'] = books_df['Summary'].apply(advanced_text_preprocessing)"
   ]
  },
  {
   "cell_type": "code",
   "execution_count": 6,
   "id": "e8da0a92-a48b-483c-b950-535ec991e85a",
   "metadata": {},
   "outputs": [
    {
     "data": {
      "text/html": [
       "<div>\n",
       "<style scoped>\n",
       "    .dataframe tbody tr th:only-of-type {\n",
       "        vertical-align: middle;\n",
       "    }\n",
       "\n",
       "    .dataframe tbody tr th {\n",
       "        vertical-align: top;\n",
       "    }\n",
       "\n",
       "    .dataframe thead th {\n",
       "        text-align: right;\n",
       "    }\n",
       "</style>\n",
       "<table border=\"1\" class=\"dataframe\">\n",
       "  <thead>\n",
       "    <tr style=\"text-align: right;\">\n",
       "      <th></th>\n",
       "      <th>isbn</th>\n",
       "      <th>book_title</th>\n",
       "      <th>book_author</th>\n",
       "      <th>year_of_publication</th>\n",
       "      <th>Summary</th>\n",
       "      <th>Language</th>\n",
       "      <th>Category</th>\n",
       "      <th>img_l</th>\n",
       "      <th>average_rating</th>\n",
       "      <th>processed_summary</th>\n",
       "    </tr>\n",
       "  </thead>\n",
       "  <tbody>\n",
       "    <tr>\n",
       "      <th>0</th>\n",
       "      <td>0399135782</td>\n",
       "      <td>The Kitchen God's Wife</td>\n",
       "      <td>Amy Tan</td>\n",
       "      <td>1991.0</td>\n",
       "      <td>A Chinese immigrant who is convinced she is dy...</td>\n",
       "      <td>en</td>\n",
       "      <td>Fiction</td>\n",
       "      <td>http://images.amazon.com/images/P/0399135782.0...</td>\n",
       "      <td>3.5</td>\n",
       "      <td>chinese immigrant convinced dying threatens ce...</td>\n",
       "    </tr>\n",
       "    <tr>\n",
       "      <th>1</th>\n",
       "      <td>0425176428</td>\n",
       "      <td>What If?: The World's Foremost Military Histor...</td>\n",
       "      <td>Robert Cowley</td>\n",
       "      <td>2000.0</td>\n",
       "      <td>Essays by respected military historians, inclu...</td>\n",
       "      <td>en</td>\n",
       "      <td>History</td>\n",
       "      <td>http://images.amazon.com/images/P/0425176428.0...</td>\n",
       "      <td>3.0</td>\n",
       "      <td>essay respected military historian including s...</td>\n",
       "    </tr>\n",
       "    <tr>\n",
       "      <th>2</th>\n",
       "      <td>0771074670</td>\n",
       "      <td>Nights Below Station Street</td>\n",
       "      <td>David Adams Richards</td>\n",
       "      <td>1988.0</td>\n",
       "      <td>Another story based in the fictional rural tow...</td>\n",
       "      <td>en</td>\n",
       "      <td>Fiction</td>\n",
       "      <td>http://images.amazon.com/images/P/0771074670.0...</td>\n",
       "      <td>3.0</td>\n",
       "      <td>another story based fictional rural town miram...</td>\n",
       "    </tr>\n",
       "    <tr>\n",
       "      <th>3</th>\n",
       "      <td>0440234743</td>\n",
       "      <td>The Testament</td>\n",
       "      <td>John Grisham</td>\n",
       "      <td>1999.0</td>\n",
       "      <td>A suicidal billionaire, a burnt-out Washington...</td>\n",
       "      <td>en</td>\n",
       "      <td>Fiction</td>\n",
       "      <td>http://images.amazon.com/images/P/0440234743.0...</td>\n",
       "      <td>3.3</td>\n",
       "      <td>suicidal billionaire burntout washington litig...</td>\n",
       "    </tr>\n",
       "    <tr>\n",
       "      <th>4</th>\n",
       "      <td>0452264464</td>\n",
       "      <td>Beloved (Plume Contemporary Fiction)</td>\n",
       "      <td>Toni Morrison</td>\n",
       "      <td>1994.0</td>\n",
       "      <td>Staring unflinchingly into the abyss of slaver...</td>\n",
       "      <td>en</td>\n",
       "      <td>Fiction</td>\n",
       "      <td>http://images.amazon.com/images/P/0452264464.0...</td>\n",
       "      <td>3.3</td>\n",
       "      <td>staring unflinchingly abyss slavery novel tran...</td>\n",
       "    </tr>\n",
       "  </tbody>\n",
       "</table>\n",
       "</div>"
      ],
      "text/plain": [
       "         isbn                                         book_title  \\\n",
       "0  0399135782                             The Kitchen God's Wife   \n",
       "1  0425176428  What If?: The World's Foremost Military Histor...   \n",
       "2  0771074670                        Nights Below Station Street   \n",
       "3  0440234743                                      The Testament   \n",
       "4  0452264464               Beloved (Plume Contemporary Fiction)   \n",
       "\n",
       "            book_author  year_of_publication  \\\n",
       "0               Amy Tan               1991.0   \n",
       "1         Robert Cowley               2000.0   \n",
       "2  David Adams Richards               1988.0   \n",
       "3          John Grisham               1999.0   \n",
       "4         Toni Morrison               1994.0   \n",
       "\n",
       "                                             Summary Language Category  \\\n",
       "0  A Chinese immigrant who is convinced she is dy...       en  Fiction   \n",
       "1  Essays by respected military historians, inclu...       en  History   \n",
       "2  Another story based in the fictional rural tow...       en  Fiction   \n",
       "3  A suicidal billionaire, a burnt-out Washington...       en  Fiction   \n",
       "4  Staring unflinchingly into the abyss of slaver...       en  Fiction   \n",
       "\n",
       "                                               img_l  average_rating  \\\n",
       "0  http://images.amazon.com/images/P/0399135782.0...             3.5   \n",
       "1  http://images.amazon.com/images/P/0425176428.0...             3.0   \n",
       "2  http://images.amazon.com/images/P/0771074670.0...             3.0   \n",
       "3  http://images.amazon.com/images/P/0440234743.0...             3.3   \n",
       "4  http://images.amazon.com/images/P/0452264464.0...             3.3   \n",
       "\n",
       "                                   processed_summary  \n",
       "0  chinese immigrant convinced dying threatens ce...  \n",
       "1  essay respected military historian including s...  \n",
       "2  another story based fictional rural town miram...  \n",
       "3  suicidal billionaire burntout washington litig...  \n",
       "4  staring unflinchingly abyss slavery novel tran...  "
      ]
     },
     "execution_count": 6,
     "metadata": {},
     "output_type": "execute_result"
    }
   ],
   "source": [
    "books_df.head()"
   ]
  },
  {
   "cell_type": "code",
   "execution_count": 7,
   "id": "b25c5096-6d59-44a5-b11b-cd2368c19586",
   "metadata": {},
   "outputs": [
    {
     "data": {
      "text/plain": [
       "\"The Kitchen God's Wife The Kitchen God's Wife Amy Tan Amy Tan Fiction chinese immigrant convinced dying threatens celebrate chinese new year unburdening everybodys hidden truth thus prompting series comic misunderstanding\""
      ]
     },
     "execution_count": 7,
     "metadata": {},
     "output_type": "execute_result"
    }
   ],
   "source": [
    "books_df['weighted_content'] = (\n",
    "    books_df['book_title'] + ' ' + books_df['book_title'] + ' ' + \n",
    "    books_df['book_author'] + ' ' + books_df['book_author'] + ' ' + \n",
    "    books_df['Category'] + ' ' +\n",
    "    books_df['processed_summary']\n",
    ")\n",
    "books_df['weighted_content'][0]"
   ]
  },
  {
   "cell_type": "code",
   "execution_count": 8,
   "id": "c8cef0fc-a75c-41db-95c3-b1e28eba88ea",
   "metadata": {},
   "outputs": [],
   "source": [
    "tfidf = TfidfVectorizer(stop_words='english', max_features=5000, ngram_range=(1, 2))\n",
    "tfidf_matrix = tfidf.fit_transform(books_df['weighted_content'])"
   ]
  },
  {
   "cell_type": "code",
   "execution_count": 9,
   "id": "cef6305f-a7ec-40bb-9d11-5c63dff36066",
   "metadata": {},
   "outputs": [],
   "source": [
    "cosine_sim = cosine_similarity(tfidf_matrix, tfidf_matrix)"
   ]
  },
  {
   "cell_type": "code",
   "execution_count": 10,
   "id": "8dc28fef-2aef-4d65-aaee-7cc65a3f6222",
   "metadata": {},
   "outputs": [],
   "source": [
    "indices = pd.Series(books_df.index, index=books_df['book_title']).drop_duplicates()"
   ]
  },
  {
   "cell_type": "code",
   "execution_count": 11,
   "id": "10c3a8fe-0f45-46b8-a4ce-eafad8a05528",
   "metadata": {},
   "outputs": [],
   "source": [
    "with open('model.pkl', 'wb') as f:\n",
    "    pickle.dump({\n",
    "        'tfidf_vectorizer': tfidf,\n",
    "        'tfidf_matrix': tfidf_matrix,\n",
    "        'cosine_sim': cosine_sim,\n",
    "        'indices': indices,\n",
    "        'books_df': books_df\n",
    "    }, f)"
   ]
  },
  {
   "cell_type": "code",
   "execution_count": null,
   "id": "0782cd9b-c874-4240-8c29-7ef2335edbc7",
   "metadata": {},
   "outputs": [],
   "source": []
  }
 ],
 "metadata": {
  "kernelspec": {
   "display_name": "Python [conda env:base] *",
   "language": "python",
   "name": "conda-base-py"
  },
  "language_info": {
   "codemirror_mode": {
    "name": "ipython",
    "version": 3
   },
   "file_extension": ".py",
   "mimetype": "text/x-python",
   "name": "python",
   "nbconvert_exporter": "python",
   "pygments_lexer": "ipython3",
   "version": "3.12.7"
  }
 },
 "nbformat": 4,
 "nbformat_minor": 5
}
